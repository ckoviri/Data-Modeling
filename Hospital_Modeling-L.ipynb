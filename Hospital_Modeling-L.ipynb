{
 "cells": [
  {
   "cell_type": "code",
   "execution_count": 1,
   "metadata": {},
   "outputs": [],
   "source": [
    "import pandas as pd"
   ]
  },
  {
   "cell_type": "code",
   "execution_count": 2,
   "metadata": {},
   "outputs": [],
   "source": [
    "df = pd.read_excel(\"C:/Users/tulas/Documents/Daksha/Datasets/Hospital_DataCleaned_Log (1).xlsx\")"
   ]
  },
  {
   "cell_type": "code",
   "execution_count": 3,
   "metadata": {},
   "outputs": [
    {
     "data": {
      "text/plain": [
       "array([2, 1, 3, 4, 5], dtype=int64)"
      ]
     },
     "execution_count": 3,
     "metadata": {},
     "output_type": "execute_result"
    }
   ],
   "source": [
    "df[\"Hospital overall rating\"].unique()"
   ]
  },
  {
   "cell_type": "code",
   "execution_count": 4,
   "metadata": {},
   "outputs": [
    {
     "data": {
      "text/plain": [
       "Unnamed: 0                                                        447530\n",
       "Score                                                               9155\n",
       "Denominator                                                          864\n",
       "Lower Estimate                                                       382\n",
       "Higher Estimate                                                      671\n",
       "HCAHPS Answer Percent                                                101\n",
       "Number of Completed Surveys                                          119\n",
       "Meets criteria for meaningful use of EHRs                              1\n",
       "Hospital overall rating                                                5\n",
       "Mortality national comparison                                          3\n",
       "Safety of care national comparison                                     3\n",
       "Readmission national comparison                                        3\n",
       "Patient experience national comparison                                 3\n",
       "Effectiveness of care national comparison                              3\n",
       "Timeliness of care national comparison                                 3\n",
       "Efficient use of medical imaging national comparison                   3\n",
       "Measure Name                                                          60\n",
       "Measure ID                                                            60\n",
       "Compared to National                                                  10\n",
       "Footnote                                                               9\n",
       "HCAHPS Measure ID                                                     93\n",
       "HCAHPS Question                                                       93\n",
       "HCAHPS Answer Description                                             93\n",
       "Survey Response Rate Percent                                          30\n",
       "Hospital Type_Acute Care Hospitals                                     2\n",
       "Hospital Type_Childrens                                                2\n",
       "Hospital Type_Critical Access Hospitals                                2\n",
       "Hospital Type_Psychiatric                                              2\n",
       "Hospital Ownership_Government - Federal                                2\n",
       "Hospital Ownership_Government - Hospital District or Authority         2\n",
       "Hospital Ownership_Government - Local                                  2\n",
       "Hospital Ownership_Government - State                                  2\n",
       "Hospital Ownership_Physician                                           2\n",
       "Hospital Ownership_Proprietary                                         2\n",
       "Hospital Ownership_Tribal                                              2\n",
       "Hospital Ownership_Voluntary non-profit - Church                       2\n",
       "Hospital Ownership_Voluntary non-profit - Other                        2\n",
       "Hospital Ownership_Voluntary non-profit - Private                      2\n",
       "Emergency Services_No                                                  2\n",
       "Emergency Services_Yes                                                 2\n",
       "dtype: int64"
      ]
     },
     "execution_count": 4,
     "metadata": {},
     "output_type": "execute_result"
    }
   ],
   "source": [
    "df.nunique()"
   ]
  },
  {
   "cell_type": "code",
   "execution_count": 5,
   "metadata": {},
   "outputs": [],
   "source": [
    "df_test= df.drop(columns=[\"Footnote\",\"Measure ID\",\"Measure Name\",\"HCAHPS Measure ID\",\"HCAHPS Question\",\"HCAHPS Answer Description\",\"Survey Response Rate Percent\",\"Hospital overall rating\"],axis = 1)\n"
   ]
  },
  {
   "cell_type": "code",
   "execution_count": 6,
   "metadata": {},
   "outputs": [
    {
     "name": "stdout",
     "output_type": "stream",
     "text": [
      "<class 'pandas.core.frame.DataFrame'>\n",
      "RangeIndex: 447530 entries, 0 to 447529\n",
      "Data columns (total 32 columns):\n",
      "Unnamed: 0                                                        447530 non-null int64\n",
      "Score                                                             447530 non-null float64\n",
      "Denominator                                                       447530 non-null float64\n",
      "Lower Estimate                                                    447530 non-null float64\n",
      "Higher Estimate                                                   447530 non-null float64\n",
      "HCAHPS Answer Percent                                             447530 non-null float64\n",
      "Number of Completed Surveys                                       447530 non-null float64\n",
      "Meets criteria for meaningful use of EHRs                         447530 non-null int64\n",
      "Mortality national comparison                                     447530 non-null int64\n",
      "Safety of care national comparison                                447530 non-null int64\n",
      "Readmission national comparison                                   447530 non-null int64\n",
      "Patient experience national comparison                            447530 non-null int64\n",
      "Effectiveness of care national comparison                         447530 non-null int64\n",
      "Timeliness of care national comparison                            447530 non-null int64\n",
      "Efficient use of medical imaging national comparison              447530 non-null int64\n",
      "Compared to National                                              447530 non-null int64\n",
      "Hospital Type_Acute Care Hospitals                                447530 non-null int64\n",
      "Hospital Type_Childrens                                           447530 non-null int64\n",
      "Hospital Type_Critical Access Hospitals                           447530 non-null int64\n",
      "Hospital Type_Psychiatric                                         447530 non-null int64\n",
      "Hospital Ownership_Government - Federal                           447530 non-null int64\n",
      "Hospital Ownership_Government - Hospital District or Authority    447530 non-null int64\n",
      "Hospital Ownership_Government - Local                             447530 non-null int64\n",
      "Hospital Ownership_Government - State                             447530 non-null int64\n",
      "Hospital Ownership_Physician                                      447530 non-null int64\n",
      "Hospital Ownership_Proprietary                                    447530 non-null int64\n",
      "Hospital Ownership_Tribal                                         447530 non-null int64\n",
      "Hospital Ownership_Voluntary non-profit - Church                  447530 non-null int64\n",
      "Hospital Ownership_Voluntary non-profit - Other                   447530 non-null int64\n",
      "Hospital Ownership_Voluntary non-profit - Private                 447530 non-null int64\n",
      "Emergency Services_No                                             447530 non-null int64\n",
      "Emergency Services_Yes                                            447530 non-null int64\n",
      "dtypes: float64(6), int64(26)\n",
      "memory usage: 109.3 MB\n"
     ]
    }
   ],
   "source": [
    "df_test.info()"
   ]
  },
  {
   "cell_type": "markdown",
   "metadata": {},
   "source": [
    "# Stratified sampling "
   ]
  },
  {
   "cell_type": "code",
   "execution_count": 7,
   "metadata": {},
   "outputs": [
    {
     "name": "stdout",
     "output_type": "stream",
     "text": [
      "TRAIN: [413766 193394 334940 ... 342100 365500 377318] TEST: [201119 381122 261624 ...  85112 239124 152056]\n",
      "TRAIN: [306319 186331 112399 ... 315406 385247  71501] TEST: [ 25085 372915 113836 ... 398747  42334 276234]\n",
      "TRAIN: [190301 387689 216848 ... 249098 286475 398962] TEST: [172530 370604 161380 ... 262373 243022 325569]\n",
      "TRAIN: [374225 233823 343295 ... 185251 386241 400086] TEST: [418141 115011 135140 ... 284902 107930 149674]\n",
      "TRAIN: [386478 273179 446399 ... 253191 234167 157011] TEST: [238379 443663 393281 ... 411571   2308 391733]\n",
      "TRAIN: [202049 261970  48191 ... 171053  15417 282338] TEST: [ 16338 378285 211293 ... 141559  19873  82542]\n",
      "TRAIN: [241057  15821 330994 ...  45962  67398  34148] TEST: [339538   7641 121060 ... 371621  41641 350352]\n",
      "TRAIN: [181219 437762 168658 ...  16043 259540 415746] TEST: [414181 153764 224837 ...  16764 240987  75598]\n",
      "TRAIN: [301724  18480 400607 ...  62062 335029  36121] TEST: [198642 168730  57546 ... 128341   5330 278956]\n",
      "TRAIN: [216294 172668 139020 ... 309114 207906 444139] TEST: [298581 153323  38421 ...  47129 202660  98459]\n",
      "TRAIN: [344193  14790 202737 ... 324171  78976 216481] TEST: [440310 347968 345843 ... 101634 156100 139077]\n",
      "TRAIN: [277372 151579 146990 ...  68601 289277 205244] TEST: [254570  20918  63635 ... 272463 100454 220749]\n",
      "TRAIN: [237849 281786 123457 ... 423198 400290 301420] TEST: [392826 106987 307897 ... 435850 333035 268228]\n",
      "TRAIN: [321634 334291 214808 ... 335667 295679 203281] TEST: [329907 118408 266154 ... 229781 323100 440717]\n",
      "TRAIN: [353647 314685  54533 ... 124220 170283 365132] TEST: [ 14473 217445 350777 ...  54706 306330 367530]\n",
      "TRAIN: [258005 386612 130713 ...  10714 164750 212086] TEST: [342109 140097 198912 ... 419372  27035 124824]\n",
      "TRAIN: [189651  77214  81883 ... 443491 297060 360424] TEST: [418585 141246 159355 ...  52708 280098 317124]\n",
      "TRAIN: [224670  63814   7254 ... 204732  51322 220154] TEST: [136107 426260 285476 ... 414287 313370 297401]\n",
      "TRAIN: [153347 275691  32908 ... 323970 410638 156593] TEST: [   353 414681 326557 ... 408480  67526 334334]\n",
      "TRAIN: [331933 300156  65649 ... 428139  59168 425674] TEST: [ 74818 296466 211766 ... 234734  83952 257698]\n"
     ]
    }
   ],
   "source": [
    "from sklearn.model_selection import StratifiedShuffleSplit\n",
    "sss = StratifiedShuffleSplit(n_splits=20, test_size=0.2, random_state=42)\n",
    "\n",
    "for train_index, test_index in sss.split(df,df[\"Hospital overall rating\"]):\n",
    "    print(\"TRAIN:\", train_index, \"TEST:\", test_index)\n",
    "    train = df.loc[train_index]\n",
    "    test = df.loc[test_index]"
   ]
  },
  {
   "cell_type": "markdown",
   "metadata": {},
   "source": [
    "# Logistic Regression Model"
   ]
  },
  {
   "cell_type": "code",
   "execution_count": 8,
   "metadata": {},
   "outputs": [
    {
     "name": "stdout",
     "output_type": "stream",
     "text": [
      "Hospital overall rating unique values:\n",
      "[(1, 8093), (2, 22809), (3, 287493), (4, 31248), (5, 8381)]\n"
     ]
    }
   ],
   "source": [
    "from collections import Counter\n",
    "from sklearn.datasets import make_classification\n",
    "#Train data\n",
    "X = train.drop(columns=[\"Footnote\",\"Measure ID\",\"Measure Name\",\"HCAHPS Measure ID\",\"HCAHPS Question\",\"HCAHPS Answer Description\",\"Survey Response Rate Percent\",\"Hospital overall rating\"],axis = 1)\n",
    "Y = train[\"Hospital overall rating\"]\n",
    "print(\"Hospital overall rating unique values:\")\n",
    "print(sorted(Counter(Y).items()))\n",
    "Y= Y.astype(float)"
   ]
  },
  {
   "cell_type": "code",
   "execution_count": 9,
   "metadata": {},
   "outputs": [
    {
     "data": {
      "text/plain": [
       "<matplotlib.axes._subplots.AxesSubplot at 0x18a48f50128>"
      ]
     },
     "execution_count": 9,
     "metadata": {},
     "output_type": "execute_result"
    }
   ],
   "source": [
    "import matplotlib.pyplot as plt\n",
    "import seaborn as sns\n",
    "sns.countplot(train[\"Hospital overall rating\"])"
   ]
  },
  {
   "cell_type": "code",
   "execution_count": 10,
   "metadata": {},
   "outputs": [],
   "source": [
    "#X = train[[\"Denominator\",\"Lower Estimate\",\"Higher Estimate\",\"HCAHPS Answer Percent\",\"Number of Completed Surveys\",\"Score\"]]\n",
    "#Y = train[[\"Hospital overall rating\"]]"
   ]
  },
  {
   "cell_type": "code",
   "execution_count": 11,
   "metadata": {},
   "outputs": [],
   "source": [
    "# Test data\n",
    "test_X = test.drop(columns=[\"Footnote\",\"Measure ID\",\"Measure Name\",\"HCAHPS Measure ID\",\"HCAHPS Question\",\"HCAHPS Answer Description\",\"Survey Response Rate Percent\",\"Hospital overall rating\"],axis = 1)\n",
    "test_Y = test[[\"Hospital overall rating\"]]"
   ]
  },
  {
   "cell_type": "markdown",
   "metadata": {},
   "source": [
    "# Model"
   ]
  },
  {
   "cell_type": "code",
   "execution_count": 12,
   "metadata": {},
   "outputs": [
    {
     "name": "stderr",
     "output_type": "stream",
     "text": [
      "C:\\Users\\tulas\\Anaconda3\\lib\\site-packages\\sklearn\\linear_model\\logistic.py:433: FutureWarning: Default solver will be changed to 'lbfgs' in 0.22. Specify a solver to silence this warning.\n",
      "  FutureWarning)\n",
      "C:\\Users\\tulas\\Anaconda3\\lib\\site-packages\\sklearn\\linear_model\\logistic.py:460: FutureWarning: Default multi_class will be changed to 'auto' in 0.22. Specify the multi_class option to silence this warning.\n",
      "  \"this warning.\", FutureWarning)\n"
     ]
    }
   ],
   "source": [
    "from sklearn.linear_model import LogisticRegression\n",
    "logmodel = LogisticRegression()\n",
    "logmodel.fit(X,Y)\n",
    "predictions = logmodel.predict(test_X)"
   ]
  },
  {
   "cell_type": "markdown",
   "metadata": {},
   "source": [
    "# Classification Report"
   ]
  },
  {
   "cell_type": "code",
   "execution_count": 16,
   "metadata": {},
   "outputs": [
    {
     "ename": "ModuleNotFoundError",
     "evalue": "No module named 'sklearn.matrics'",
     "output_type": "error",
     "traceback": [
      "\u001b[1;31m---------------------------------------------------------------------------\u001b[0m",
      "\u001b[1;31mModuleNotFoundError\u001b[0m                       Traceback (most recent call last)",
      "\u001b[1;32m<ipython-input-16-6011507517e0>\u001b[0m in \u001b[0;36m<module>\u001b[1;34m\u001b[0m\n\u001b[1;32m----> 1\u001b[1;33m \u001b[1;32mfrom\u001b[0m \u001b[0msklearn\u001b[0m\u001b[1;33m.\u001b[0m\u001b[0mmatrics\u001b[0m \u001b[1;32mimport\u001b[0m \u001b[0mclassification_report\u001b[0m\u001b[1;33m\u001b[0m\u001b[1;33m\u001b[0m\u001b[0m\n\u001b[0m\u001b[0;32m      2\u001b[0m \u001b[0mprint\u001b[0m\u001b[1;33m(\u001b[0m\u001b[0mclassification_report\u001b[0m\u001b[1;33m(\u001b[0m\u001b[0mtest_Y\u001b[0m\u001b[1;33m,\u001b[0m\u001b[0mpredictions\u001b[0m\u001b[1;33m)\u001b[0m\u001b[1;33m)\u001b[0m\u001b[1;33m\u001b[0m\u001b[1;33m\u001b[0m\u001b[0m\n",
      "\u001b[1;31mModuleNotFoundError\u001b[0m: No module named 'sklearn.matrics'"
     ]
    }
   ],
   "source": [
    "from sklearn.matrics import classification_report\n",
    "print(classification_report(test_Y,predictions))"
   ]
  },
  {
   "cell_type": "markdown",
   "metadata": {},
   "source": [
    "# confusion matrix"
   ]
  },
  {
   "cell_type": "code",
   "execution_count": null,
   "metadata": {},
   "outputs": [],
   "source": [
    "from sklearn.metrics import classification_report\n",
    "from sklearn import metrics\n",
    "cm= metrics.confusion_matrix(test_Y,predictions)\n",
    "print(cm)\n"
   ]
  },
  {
   "cell_type": "code",
   "execution_count": null,
   "metadata": {},
   "outputs": [],
   "source": [
    "# import required modules\n",
    "import numpy as np\n",
    "import matplotlib.pyplot as plt\n",
    "import seaborn as sns\n",
    "%matplotlib inline\n",
    "class_names=[1,2,3,4,5] # name  of classes\n",
    "fig, ax = plt.subplots()\n",
    "tick_marks = np.arange(len(class_names))\n",
    "plt.xticks(tick_marks, class_names)\n",
    "plt.yticks(tick_marks, class_names)\n",
    "# create heatmap\n",
    "sns.heatmap(pd.DataFrame(cm), annot=True, cmap=\"YlGnBu\" ,fmt='g')\n",
    "ax.xaxis.set_label_position(\"top\")\n",
    "plt.tight_layout()\n",
    "plt.title('Confusion matrix', y=1.1)\n",
    "plt.ylabel('Actual label')\n",
    "plt.xlabel('Predicted label')"
   ]
  },
  {
   "cell_type": "code",
   "execution_count": null,
   "metadata": {},
   "outputs": [],
   "source": [
    "from statsmodels.stats.outliers_influence import variance_inflation_factor"
   ]
  },
  {
   "cell_type": "code",
   "execution_count": null,
   "metadata": {},
   "outputs": [],
   "source": [
    "vif = pd.DataFrame()\n",
    "X1 = train[[\"Denominator\",\"Lower Estimate\",\"Higher Estimate\",\"HCAHPS Answer Percent\",\"Number of Completed Surveys\",\"Score\"]]\n",
    "vif[\"VIF Factor\"] = [variance_inflation_factor(X1.values,i) for i in range(X1.shape[1])]\n",
    "vif[\"features\"]= X1.columns"
   ]
  },
  {
   "cell_type": "code",
   "execution_count": null,
   "metadata": {},
   "outputs": [],
   "source": [
    "vif.round(1)"
   ]
  },
  {
   "cell_type": "code",
   "execution_count": null,
   "metadata": {},
   "outputs": [],
   "source": [
    "X1 = train.drop([\"Lower Estimate\",\"Higher Estimate\",\"Unnamed: 0\",\"HCAHPS Measure ID,\"],axis=1)\n",
    "X1.iloc[0,:]"
   ]
  },
  {
   "cell_type": "code",
   "execution_count": null,
   "metadata": {},
   "outputs": [],
   "source": [
    "from sklearn.metrics import classification_report\n",
    "from sklearn import metrics\n",
    "print(classification_report(test_Y,predictions))\n",
    "print(\"#########Coefficients of logistic regression model##################\")\n",
    "print(\"\\n\")\n",
    "cm= metrics.confusion_matrix(test_Y,predictions)\n",
    "print(cm)"
   ]
  },
  {
   "cell_type": "code",
   "execution_count": null,
   "metadata": {},
   "outputs": [],
   "source": []
  }
 ],
 "metadata": {
  "kernelspec": {
   "display_name": "Python 3",
   "language": "python",
   "name": "python3"
  },
  "language_info": {
   "codemirror_mode": {
    "name": "ipython",
    "version": 3
   },
   "file_extension": ".py",
   "mimetype": "text/x-python",
   "name": "python",
   "nbconvert_exporter": "python",
   "pygments_lexer": "ipython3",
   "version": "3.7.3"
  }
 },
 "nbformat": 4,
 "nbformat_minor": 2
}
